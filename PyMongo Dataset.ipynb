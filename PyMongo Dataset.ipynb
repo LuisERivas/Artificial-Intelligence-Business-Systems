{
 "cells": [
  {
   "cell_type": "markdown",
   "metadata": {},
   "source": [
    "# Data Extraction Using PyMongo\n",
    "\n",
    "Initial series of code for testing the extraction of data from Mongo using PyMongo."
   ]
  },
  {
   "cell_type": "code",
   "execution_count": 17,
   "metadata": {},
   "outputs": [],
   "source": [
    "# Dependencies\n",
    "import pymongo\n",
    "from pymongo import MongoClient\n",
    "\n",
    "# Allows passing of hexadecimal values to match related entries across different collections\n",
    "from bson.objectid import ObjectId\n",
    "\n",
    "# Connect to client and access desired db\n",
    "conn = MongoClient('localhost', 27017)\n",
    "db = conn.Testing_Dataset_AIBS"
   ]
  },
  {
   "cell_type": "code",
   "execution_count": 18,
   "metadata": {},
   "outputs": [],
   "source": [
    "# Stores appointment collection\n",
    "data = db.Appointment"
   ]
  },
  {
   "cell_type": "code",
   "execution_count": 19,
   "metadata": {},
   "outputs": [],
   "source": [
    "# Stores patient collection\n",
    "name = db.Patient"
   ]
  },
  {
   "cell_type": "code",
   "execution_count": 20,
   "metadata": {},
   "outputs": [],
   "source": [
    "# Converts appointment collection into cursor\n",
    "AppointmentList = data.find()"
   ]
  },
  {
   "cell_type": "code",
   "execution_count": 21,
   "metadata": {},
   "outputs": [
    {
     "name": "stdout",
     "output_type": "stream",
     "text": [
      "Patient ID: 5e3dca3631807d2a188681de Date: 2020-05-15 07:09:30 Exam Room: 3A\n",
      "5e3dca3631807d2a188681de\n",
      "{'_id': ObjectId('5e3dca3631807d2a188681de'), 'FirstName': 'Mathew', 'LastName': 'Rogers'}\n",
      "Patient ID: 5e3dca3631807d2a188681de Date: 2020-05-19 07:12:00 Exam Room: 2B\n",
      "5e3dca3631807d2a188681de\n",
      "{'_id': ObjectId('5e3dca3631807d2a188681de'), 'FirstName': 'Mathew', 'LastName': 'Rogers'}\n",
      "Patient ID: 5e3dca3631807d2a188681de Date: 2020-06-01 07:06:20 Exam Room: 1C\n",
      "5e3dca3631807d2a188681de\n",
      "{'_id': ObjectId('5e3dca3631807d2a188681de'), 'FirstName': 'Mathew', 'LastName': 'Rogers'}\n"
     ]
    }
   ],
   "source": [
    "# Loops thru appointment data to return all values for each entry\n",
    "for appt in AppointmentList:\n",
    "    print(\"Patient ID: \" + appt[\"Patient_id\"] + \" Date: \" + str(appt[\"Date\"]) + \" Exam Room: \" + appt[\"ExamRoom\"])\n",
    "    print(appt[\"Patient_id\"])\n",
    "    \n",
    "    # Nested loop matches appointment results to the patient collection and displays first & last name\n",
    "    for x in name.find({\"_id\": ObjectId(appt[\"Patient_id\"])}, {'FirstName': 1, 'LastName': 1}):\n",
    "        print(x)"
   ]
  },
  {
   "cell_type": "code",
   "execution_count": 24,
   "metadata": {},
   "outputs": [
    {
     "name": "stdout",
     "output_type": "stream",
     "text": [
      "{'_id': ObjectId('5e3dca3631807d2a188681de'), 'FirstName': 'Mathew', 'LastName': 'Rogers', 'Gender': 'Male', 'DOB ': datetime.datetime(1997, 10, 25, 7, 0), 'Phone': '925-555-1111'}\n",
      "{'_id': ObjectId('5e3dcb7031807d2a188681df'), 'FirstName': 'Jacob', 'LastName': 'Williams', 'Gender': 'Male', 'DOB': datetime.datetime(2001, 1, 11, 8, 0), 'Phone': '555-000-9999'}\n",
      "{'_id': ObjectId('5e3dcbad31807d2a188681e0'), 'FirstName': 'Hallie', 'LastName': 'Ringer', 'Gender': 'Female', 'DOB': datetime.datetime(1989, 9, 20, 7, 0), 'Phone': '888-153-8947'}\n"
     ]
    }
   ],
   "source": [
    "# Displays all entries in patient collection\n",
    "for x in name.find():\n",
    "    print(x)"
   ]
  },
  {
   "cell_type": "markdown",
   "metadata": {},
   "source": [
    "# Testing Area Below"
   ]
  },
  {
   "cell_type": "code",
   "execution_count": null,
   "metadata": {},
   "outputs": [],
   "source": [
    "with conn:\n",
    "    db = conn.Testing_Dataset_AIBS\n",
    "    \n",
    "    Patient = db.Patient.find({}, {'_id': appt[\"Patient_id\"], appt})"
   ]
  },
  {
   "cell_type": "code",
   "execution_count": null,
   "metadata": {},
   "outputs": [],
   "source": [
    "print(name.find_one({\"_id\": appt[\"Patient_id\"]}))"
   ]
  },
  {
   "cell_type": "code",
   "execution_count": null,
   "metadata": {},
   "outputs": [],
   "source": [
    "db.Appointment.aggregate([\n",
    "    {\n",
    "        $lookup:\n",
    "            {\n",
    "                from: \"Patient\",\n",
    "                localField: \"_id\",\n",
    "                foreignField: \"Patient_id\",\n",
    "                as: \"Patient Profile\"\n",
    "            }\n",
    "    }\n",
    "]);"
   ]
  }
 ],
 "metadata": {
  "kernelspec": {
   "display_name": "Python 3",
   "language": "python",
   "name": "python3"
  },
  "language_info": {
   "codemirror_mode": {
    "name": "ipython",
    "version": 3
   },
   "file_extension": ".py",
   "mimetype": "text/x-python",
   "name": "python",
   "nbconvert_exporter": "python",
   "pygments_lexer": "ipython3",
   "version": "3.6.8"
  }
 },
 "nbformat": 4,
 "nbformat_minor": 2
}
